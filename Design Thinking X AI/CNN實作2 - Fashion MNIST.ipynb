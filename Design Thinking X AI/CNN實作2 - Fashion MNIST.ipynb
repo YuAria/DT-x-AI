{
 "cells": [
  {
   "cell_type": "code",
   "execution_count": 1,
   "metadata": {},
   "outputs": [
    {
     "name": "stderr",
     "output_type": "stream",
     "text": [
      "Using TensorFlow backend.\n"
     ]
    }
   ],
   "source": [
    "%matplotlib inline\n",
    "import numpy as np\n",
    "import matplotlib.pyplot as plt\n",
    "from keras.datasets import fashion_mnist"
   ]
  },
  {
   "cell_type": "code",
   "execution_count": 2,
   "metadata": {},
   "outputs": [],
   "source": [
    "(x_train, y_train), (x_test, y_test)  = fashion_mnist.load_data()"
   ]
  },
  {
   "cell_type": "code",
   "execution_count": 3,
   "metadata": {},
   "outputs": [
    {
     "data": {
      "text/plain": [
       "<matplotlib.image.AxesImage at 0x1a4a97b6f28>"
      ]
     },
     "execution_count": 3,
     "metadata": {},
     "output_type": "execute_result"
    },
    {
     "data": {
      "image/png": "[encoded data removed]",
      "text/plain": [
       "<Figure size 432x288 with 1 Axes>"
      ]
     },
     "metadata": {
      "needs_background": "light"
     },
     "output_type": "display_data"
    }
   ],
   "source": [
    "plt.imshow(x_train[1234], cmap = 'Greys')"
   ]
  },
  {
   "cell_type": "code",
   "execution_count": 4,
   "metadata": {},
   "outputs": [],
   "source": [
    "x_train = x_train.reshape(60000, 28, 28, 1)\n",
    "x_test = x_test.reshape(10000, 28, 28, 1)"
   ]
  },
  {
   "cell_type": "code",
   "execution_count": 5,
   "metadata": {},
   "outputs": [],
   "source": [
    "x_train = x_train/255\n",
    "x_test = x_test/255"
   ]
  },
  {
   "cell_type": "code",
   "execution_count": 6,
   "metadata": {},
   "outputs": [],
   "source": [
    "from keras.utils import to_categorical"
   ]
  },
  {
   "cell_type": "code",
   "execution_count": 7,
   "metadata": {},
   "outputs": [],
   "source": [
    "y_train = to_categorical(y_train, 10)\n",
    "y_test = to_categorical(y_test, 10)"
   ]
  },
  {
   "cell_type": "code",
   "execution_count": 8,
   "metadata": {},
   "outputs": [],
   "source": [
    "from keras.models import Sequential\n",
    "from keras.layers import Conv2D, MaxPool2D, Flatten, Dense, Activation\n",
    "from keras.optimizers import SGD"
   ]
  },
  {
   "cell_type": "code",
   "execution_count": 9,
   "metadata": {},
   "outputs": [],
   "source": [
    "model = Sequential()"
   ]
  },
  {
   "cell_type": "code",
   "execution_count": 10,
   "metadata": {},
   "outputs": [],
   "source": [
    "# 1st Conv Layer"
   ]
  },
  {
   "cell_type": "code",
   "execution_count": 11,
   "metadata": {},
   "outputs": [],
   "source": [
    "model.add(Conv2D(8, (3,3), padding = 'same', activation = 'relu', input_shape = (28, 28, 1)))\n",
    "model.add(Conv2D(8, (3,3), padding = 'same', activation = 'relu'))"
   ]
  },
  {
   "cell_type": "code",
   "execution_count": 12,
   "metadata": {},
   "outputs": [],
   "source": [
    "model.add(MaxPool2D(pool_size = (2,2)))"
   ]
  },
  {
   "cell_type": "code",
   "execution_count": 13,
   "metadata": {},
   "outputs": [],
   "source": [
    "# 2nd Conv Layer"
   ]
  },
  {
   "cell_type": "code",
   "execution_count": 14,
   "metadata": {},
   "outputs": [],
   "source": [
    "model.add(Conv2D(16, (3,3), padding = 'same', activation = 'relu'))\n",
    "model.add(Conv2D(16, (3,3), padding = 'same', activation = 'relu'))"
   ]
  },
  {
   "cell_type": "code",
   "execution_count": 15,
   "metadata": {},
   "outputs": [],
   "source": [
    "model.add(MaxPool2D(pool_size = (2,2)))"
   ]
  },
  {
   "cell_type": "code",
   "execution_count": 16,
   "metadata": {},
   "outputs": [],
   "source": [
    "# 3rd Conv Layer"
   ]
  },
  {
   "cell_type": "code",
   "execution_count": 17,
   "metadata": {},
   "outputs": [],
   "source": [
    "model.add(Conv2D(32, (3,3), padding = 'same', activation = 'relu'))\n",
    "model.add(Conv2D(32, (3,3), padding = 'same', activation = 'relu'))"
   ]
  },
  {
   "cell_type": "code",
   "execution_count": 18,
   "metadata": {},
   "outputs": [],
   "source": [
    "model.add(MaxPool2D(pool_size = (2,2)))"
   ]
  },
  {
   "cell_type": "code",
   "execution_count": 19,
   "metadata": {},
   "outputs": [],
   "source": [
    "#Flatten"
   ]
  },
  {
   "cell_type": "code",
   "execution_count": 20,
   "metadata": {},
   "outputs": [],
   "source": [
    "model.add(Flatten())"
   ]
  },
  {
   "cell_type": "code",
   "execution_count": 21,
   "metadata": {},
   "outputs": [],
   "source": [
    "model.add(Dense(256, activation = 'relu'))\n",
    "model.add(Dense(256, activation = 'relu'))\n",
    "model.add(Dense(10, activation = 'softmax'))"
   ]
  },
  {
   "cell_type": "code",
   "execution_count": 22,
   "metadata": {},
   "outputs": [],
   "source": [
    "model.compile(loss=\"mse\", optimizer=SGD(lr=0.05),\n",
    "              metrics=['accuracy'])"
   ]
  },
  {
   "cell_type": "code",
   "execution_count": 23,
   "metadata": {},
   "outputs": [
    {
     "name": "stdout",
     "output_type": "stream",
     "text": [
      "_________________________________________________________________\n",
      "Layer (type)                 Output Shape              Param #   \n",
      "=================================================================\n",
      "conv2d_1 (Conv2D)            (None, 28, 28, 8)         80        \n",
      "_________________________________________________________________\n",
      "conv2d_2 (Conv2D)            (None, 28, 28, 8)         584       \n",
      "_________________________________________________________________\n",
      "max_pooling2d_1 (MaxPooling2 (None, 14, 14, 8)         0         \n",
      "_________________________________________________________________\n",
      "conv2d_3 (Conv2D)            (None, 14, 14, 16)        1168      \n",
      "_________________________________________________________________\n",
      "conv2d_4 (Conv2D)            (None, 14, 14, 16)        2320      \n",
      "_________________________________________________________________\n",
      "max_pooling2d_2 (MaxPooling2 (None, 7, 7, 16)          0         \n",
      "_________________________________________________________________\n",
      "conv2d_5 (Conv2D)            (None, 7, 7, 32)          4640      \n",
      "_________________________________________________________________\n",
      "conv2d_6 (Conv2D)            (None, 7, 7, 32)          9248      \n",
      "_________________________________________________________________\n",
      "max_pooling2d_3 (MaxPooling2 (None, 3, 3, 32)          0         \n",
      "_________________________________________________________________\n",
      "flatten_1 (Flatten)          (None, 288)               0         \n",
      "_________________________________________________________________\n",
      "dense_1 (Dense)              (None, 256)               73984     \n",
      "_________________________________________________________________\n",
      "dense_2 (Dense)              (None, 256)               65792     \n",
      "_________________________________________________________________\n",
      "dense_3 (Dense)              (None, 10)                2570      \n",
      "=================================================================\n",
      "Total params: 160,386\n",
      "Trainable params: 160,386\n",
      "Non-trainable params: 0\n",
      "_________________________________________________________________\n"
     ]
    }
   ],
   "source": [
    "model.summary()"
   ]
  },
  {
   "cell_type": "code",
   "execution_count": 24,
   "metadata": {},
   "outputs": [
    {
     "name": "stdout",
     "output_type": "stream",
     "text": [
      "Epoch 1/20\n",
      "60000/60000 [==============================] - 34s 563us/step - loss: 0.0899 - acc: 0.1007\n",
      "Epoch 2/20\n",
      "60000/60000 [==============================] - 31s 514us/step - loss: 0.0898 - acc: 0.1118\n",
      "Epoch 3/20\n",
      "60000/60000 [==============================] - 36s 603us/step - loss: 0.0897 - acc: 0.1563\n",
      "Epoch 4/20\n",
      "60000/60000 [==============================] - 27s 449us/step - loss: 0.0894 - acc: 0.22990s - loss: 0.0894 - acc: - ETA: 0s - loss: 0.0894 - acc: 0.2\n",
      "Epoch 5/20\n",
      "60000/60000 [==============================] - 26s 439us/step - loss: 0.0888 - acc: 0.30422s \n",
      "Epoch 6/20\n",
      "60000/60000 [==============================] - 30s 499us/step - loss: 0.0788 - acc: 0.3848\n",
      "Epoch 7/20\n",
      "60000/60000 [==============================] - 33s 557us/step - loss: 0.0483 - acc: 0.6411\n",
      "Epoch 8/20\n",
      "60000/60000 [==============================] - 27s 450us/step - loss: 0.0394 - acc: 0.7086\n",
      "Epoch 9/20\n",
      "60000/60000 [==============================] - 34s 572us/step - loss: 0.0366 - acc: 0.7341\n",
      "Epoch 10/20\n",
      "60000/60000 [==============================] - 36s 597us/step - loss: 0.0345 - acc: 0.7503\n",
      "Epoch 11/20\n",
      "60000/60000 [==============================] - 34s 571us/step - loss: 0.0328 - acc: 0.7654\n",
      "Epoch 12/20\n",
      "60000/60000 [==============================] - 33s 558us/step - loss: 0.0313 - acc: 0.7780\n",
      "Epoch 13/20\n",
      "60000/60000 [==============================] - 40s 673us/step - loss: 0.0306 - acc: 0.7848\n",
      "Epoch 14/20\n",
      "60000/60000 [==============================] - 38s 633us/step - loss: 0.0293 - acc: 0.7937\n",
      "Epoch 15/20\n",
      "60000/60000 [==============================] - 39s 655us/step - loss: 0.0285 - acc: 0.8010\n",
      "Epoch 16/20\n",
      "60000/60000 [==============================] - 38s 637us/step - loss: 0.0276 - acc: 0.80820s - loss: 0.0276 - \n",
      "Epoch 17/20\n",
      "60000/60000 [==============================] - 39s 651us/step - loss: 0.0269 - acc: 0.81351s - loss\n",
      "Epoch 18/20\n",
      "60000/60000 [==============================] - 40s 671us/step - loss: 0.0257 - acc: 0.8207\n",
      "Epoch 19/20\n",
      "60000/60000 [==============================] - 42s 704us/step - loss: 0.0253 - acc: 0.8235\n",
      "Epoch 20/20\n",
      "60000/60000 [==============================] - 35s 578us/step - loss: 0.0247 - acc: 0.8297\n"
     ]
    },
    {
     "data": {
      "text/plain": [
       "<keras.callbacks.History at 0x1a4a6368d68>"
      ]
     },
     "execution_count": 24,
     "metadata": {},
     "output_type": "execute_result"
    }
   ],
   "source": [
    "model.fit(x_train, y_train, batch_size=100, epochs=20)"
   ]
  },
  {
   "cell_type": "code",
   "execution_count": 26,
   "metadata": {},
   "outputs": [
    {
     "name": "stdout",
     "output_type": "stream",
     "text": [
      "Epoch 1/20\n",
      "60000/60000 [==============================] - 45s 753us/step - loss: 0.0242 - acc: 0.83341s - lo\n",
      "Epoch 2/20\n",
      "60000/60000 [==============================] - 43s 708us/step - loss: 0.0236 - acc: 0.83672s\n",
      "Epoch 3/20\n",
      "60000/60000 [==============================] - 36s 608us/step - loss: 0.0234 - acc: 0.83830s - loss: 0.0234 \n",
      "Epoch 4/20\n",
      "60000/60000 [==============================] - 37s 620us/step - loss: 0.0227 - acc: 0.8442\n",
      "Epoch 5/20\n",
      "60000/60000 [==============================] - 38s 640us/step - loss: 0.0226 - acc: 0.84491s - los\n",
      "Epoch 6/20\n",
      "60000/60000 [==============================] - 41s 685us/step - loss: 0.0222 - acc: 0.8473\n",
      "Epoch 7/20\n",
      "60000/60000 [==============================] - 44s 732us/step - loss: 0.0219 - acc: 0.8504\n",
      "Epoch 8/20\n",
      "60000/60000 [==============================] - 42s 701us/step - loss: 0.0217 - acc: 0.8522\n",
      "Epoch 9/20\n",
      "60000/60000 [==============================] - 68s 1ms/step - loss: 0.0211 - acc: 0.8550: 2s - loss\n",
      "Epoch 10/20\n",
      "60000/60000 [==============================] - 48s 794us/step - loss: 0.0209 - acc: 0.8579\n",
      "Epoch 11/20\n",
      "60000/60000 [==============================] - 41s 687us/step - loss: 0.0207 - acc: 0.8576\n",
      "Epoch 12/20\n",
      "60000/60000 [==============================] - 38s 626us/step - loss: 0.0204 - acc: 0.8598\n",
      "Epoch 13/20\n",
      "60000/60000 [==============================] - 36s 601us/step - loss: 0.0201 - acc: 0.86320s - loss: 0.0201 - acc\n",
      "Epoch 14/20\n",
      "60000/60000 [==============================] - 38s 627us/step - loss: 0.0200 - acc: 0.8645\n",
      "Epoch 15/20\n",
      "60000/60000 [==============================] - 38s 631us/step - loss: 0.0197 - acc: 0.8671\n",
      "Epoch 16/20\n",
      "60000/60000 [==============================] - 39s 655us/step - loss: 0.0197 - acc: 0.8665\n",
      "Epoch 17/20\n",
      "60000/60000 [==============================] - 38s 632us/step - loss: 0.0195 - acc: 0.8688\n",
      "Epoch 18/20\n",
      "60000/60000 [==============================] - 38s 625us/step - loss: 0.0193 - acc: 0.87012s - loss: 0.0192 - acc: 0.\n",
      "Epoch 19/20\n",
      "60000/60000 [==============================] - 40s 665us/step - loss: 0.0192 - acc: 0.8705\n",
      "Epoch 20/20\n",
      "60000/60000 [==============================] - 39s 647us/step - loss: 0.0189 - acc: 0.8729\n"
     ]
    },
    {
     "data": {
      "text/plain": [
       "<keras.callbacks.History at 0x1a4a6494c88>"
      ]
     },
     "execution_count": 26,
     "metadata": {},
     "output_type": "execute_result"
    }
   ],
   "source": [
    "model.fit(x_train, y_train, batch_size=100, epochs=20)"
   ]
  },
  {
   "cell_type": "code",
   "execution_count": 27,
   "metadata": {},
   "outputs": [
    {
     "name": "stdout",
     "output_type": "stream",
     "text": [
      "Epoch 1/20\n",
      "60000/60000 [==============================] - 40s 661us/step - loss: 0.0188 - acc: 0.8734\n",
      "Epoch 2/20\n",
      "60000/60000 [==============================] - 36s 598us/step - loss: 0.0186 - acc: 0.8755\n",
      "Epoch 3/20\n",
      "60000/60000 [==============================] - 36s 605us/step - loss: 0.0187 - acc: 0.8741\n",
      "Epoch 4/20\n",
      "60000/60000 [==============================] - 38s 626us/step - loss: 0.0184 - acc: 0.8764\n",
      "Epoch 5/20\n",
      "60000/60000 [==============================] - 36s 598us/step - loss: 0.0183 - acc: 0.87813s - loss: 0.0183 - ac - ETA: 2s - loss: 0.0183 - acc - ETA: 2s - loss - ETA: 0s - loss: 0.0184 - acc: 0.877 - ETA: 0s - loss: 0.0184 - a\n",
      "Epoch 6/20\n",
      "60000/60000 [==============================] - 37s 612us/step - loss: 0.0182 - acc: 0.8792\n",
      "Epoch 7/20\n",
      "60000/60000 [==============================] - 37s 621us/step - loss: 0.0182 - acc: 0.8775\n",
      "Epoch 8/20\n",
      "60000/60000 [==============================] - 41s 676us/step - loss: 0.0181 - acc: 0.8783\n",
      "Epoch 9/20\n",
      "60000/60000 [==============================] - 37s 620us/step - loss: 0.0181 - acc: 0.8792\n",
      "Epoch 10/20\n",
      "60000/60000 [==============================] - 38s 634us/step - loss: 0.0179 - acc: 0.8819\n",
      "Epoch 11/20\n",
      "60000/60000 [==============================] - 39s 654us/step - loss: 0.0180 - acc: 0.8808\n",
      "Epoch 12/20\n",
      "60000/60000 [==============================] - 37s 623us/step - loss: 0.0181 - acc: 0.8799\n",
      "Epoch 13/20\n",
      "60000/60000 [==============================] - 39s 645us/step - loss: 0.0180 - acc: 0.8820\n",
      "Epoch 14/20\n",
      "60000/60000 [==============================] - 41s 686us/step - loss: 0.0180 - acc: 0.8820\n",
      "Epoch 15/20\n",
      "60000/60000 [==============================] - 38s 632us/step - loss: 0.0179 - acc: 0.8818\n",
      "Epoch 16/20\n",
      "60000/60000 [==============================] - 41s 678us/step - loss: 0.0178 - acc: 0.8822\n",
      "Epoch 17/20\n",
      "60000/60000 [==============================] - 38s 635us/step - loss: 0.0178 - acc: 0.8839\n",
      "Epoch 18/20\n",
      "60000/60000 [==============================] - 39s 653us/step - loss: 0.0181 - acc: 0.88160s - loss: 0.0181 - acc: 0.8\n",
      "Epoch 19/20\n",
      "60000/60000 [==============================] - 41s 690us/step - loss: 0.0182 - acc: 0.8811\n",
      "Epoch 20/20\n",
      "60000/60000 [==============================] - 44s 736us/step - loss: 0.0182 - acc: 0.8820\n"
     ]
    },
    {
     "data": {
      "text/plain": [
       "<keras.callbacks.History at 0x1a4a64c1ef0>"
      ]
     },
     "execution_count": 27,
     "metadata": {},
     "output_type": "execute_result"
    }
   ],
   "source": [
    "model.fit(x_train, y_train, batch_size=100, epochs=20)"
   ]
  },
  {
   "cell_type": "code",
   "execution_count": 28,
   "metadata": {},
   "outputs": [
    {
     "name": "stdout",
     "output_type": "stream",
     "text": [
      "10000/10000 [==============================] - 5s 450us/step\n",
      "正確率為: 0.8548 ，loss為 0.02 \n"
     ]
    }
   ],
   "source": [
    "score = model.evaluate(x_test, y_test)\n",
    "print(f\"正確率為: {score[1]} ，loss為 {score[0]:.2f} \")"
   ]
  },
  {
   "cell_type": "code",
   "execution_count": 29,
   "metadata": {},
   "outputs": [],
   "source": [
    "predict = model.predict_classes(x_test)"
   ]
  },
  {
   "cell_type": "code",
   "execution_count": 30,
   "metadata": {},
   "outputs": [
    {
     "data": {
      "image/png": "[encoded data removed]",
      "text/plain": [
       "<Figure size 432x288 with 5 Axes>"
      ]
     },
     "metadata": {
      "needs_background": "light"
     },
     "output_type": "display_data"
    }
   ],
   "source": [
    "pick = np.random.randint(1,9999, 5)\n",
    "\n",
    "for i in range(5):\n",
    "    plt.subplot(1,5,i+1)\n",
    "    plt.imshow(x_test[pick[i]].reshape(28,28), cmap='Greys')\n",
    "    plt.title(predict[pick[i]])\n",
    "    plt.axis(\"off\")"
   ]
  },
  {
   "cell_type": "code",
   "execution_count": null,
   "metadata": {},
   "outputs": [],
   "source": [
    "class_names = ['T-shirt/top', 'Trousers' , 'Pullover', 'Dress', 'Coat', 'Sandal', 'Shirt', 'Sneaker', 'Bag', 'Ankle boot'\n",
    "]"
   ]
  }
 ],
 "metadata": {
  "kernelspec": {
   "display_name": "Python 3",
   "language": "python",
   "name": "python3"
  },
  "language_info": {
   "codemirror_mode": {
    "name": "ipython",
    "version": 3
   },
   "file_extension": ".py",
   "mimetype": "text/x-python",
   "name": "python",
   "nbconvert_exporter": "python",
   "pygments_lexer": "ipython3",
   "version": "3.6.5"
  }
 },
 "nbformat": 4,
 "nbformat_minor": 2
}
