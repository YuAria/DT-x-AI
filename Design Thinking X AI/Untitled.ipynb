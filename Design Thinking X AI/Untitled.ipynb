{
 "cells": [
  {
   "cell_type": "code",
   "execution_count": 1,
   "metadata": {},
   "outputs": [
    {
     "name": "stderr",
     "output_type": "stream",
     "text": [
      "Using TensorFlow backend.\n"
     ]
    }
   ],
   "source": [
    "from keras.models import model_from_json"
   ]
  },
  {
   "cell_type": "code",
   "execution_count": 2,
   "metadata": {},
   "outputs": [
    {
     "name": "stdout",
     "output_type": "stream",
     "text": [
      " Volume in drive C has no label.\n",
      " Volume Serial Number is 8C57-45D8\n",
      "\n",
      " Directory of C:\\Users\\Max\\Desktop\\3rd Year of NCCU\\Design Thinking X AI\n",
      "\n",
      "10/02/2019  03:48 PM    <DIR>          .\n",
      "10/02/2019  03:48 PM    <DIR>          ..\n",
      "10/02/2019  03:48 PM    <DIR>          .ipynb_checkpoints\n",
      "09/18/2019  08:53 PM            17,396 DT Week2.docx\n",
      "10/02/2019  03:45 PM             2,635 test_model.json\n",
      "10/02/2019  03:45 PM         1,593,496 test_model_weights.h5\n",
      "10/02/2019  03:48 PM                72 Untitled.ipynb\n",
      "10/02/2019  03:46 PM            21,939 神經網路實作.ipynb\n",
      "               5 File(s)      1,635,538 bytes\n",
      "               3 Dir(s)  13,773,479,936 bytes free\n"
     ]
    }
   ],
   "source": [
    "%ls"
   ]
  },
  {
   "cell_type": "code",
   "execution_count": null,
   "metadata": {},
   "outputs": [],
   "source": [
    "model = model_from_json()"
   ]
  }
 ],
 "metadata": {
  "kernelspec": {
   "display_name": "Python 3",
   "language": "python",
   "name": "python3"
  },
  "language_info": {
   "codemirror_mode": {
    "name": "ipython",
    "version": 3
   },
   "file_extension": ".py",
   "mimetype": "text/x-python",
   "name": "python",
   "nbconvert_exporter": "python",
   "pygments_lexer": "ipython3",
   "version": "3.6.5"
  }
 },
 "nbformat": 4,
 "nbformat_minor": 2
}
